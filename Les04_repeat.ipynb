{
 "cells": [
  {
   "cell_type": "markdown",
   "id": "1f100add",
   "metadata": {},
   "source": [
    "#### **Задание на повторение"
   ]
  },
  {
   "cell_type": "code",
   "execution_count": 42,
   "id": "93724f8e",
   "metadata": {},
   "outputs": [],
   "source": [
    "import numpy as np"
   ]
  },
  {
   "cell_type": "markdown",
   "id": "48940712",
   "metadata": {},
   "source": [
    "#### No1"
   ]
  },
  {
   "cell_type": "code",
   "execution_count": 43,
   "id": "21b56417",
   "metadata": {},
   "outputs": [
    {
     "data": {
      "text/plain": [
       "array([12, 13, 14, 15, 16, 17, 18, 19, 20, 21, 22, 23])"
      ]
     },
     "execution_count": 43,
     "metadata": {},
     "output_type": "execute_result"
    }
   ],
   "source": [
    "a = np.arange(12, 24, 1)\n",
    "a"
   ]
  },
  {
   "cell_type": "markdown",
   "id": "b8a33c6f",
   "metadata": {},
   "source": [
    "#### No2"
   ]
  },
  {
   "cell_type": "code",
   "execution_count": 44,
   "id": "e5a1f58a",
   "metadata": {},
   "outputs": [
    {
     "name": "stdout",
     "output_type": "stream",
     "text": [
      "[[12 13 14 15 16 17]\n",
      " [18 19 20 21 22 23]]\n",
      "\n",
      "[[12 13 14 15]\n",
      " [16 17 18 19]\n",
      " [20 21 22 23]]\n",
      "\n",
      "[[12 13 14]\n",
      " [15 16 17]\n",
      " [18 19 20]\n",
      " [21 22 23]]\n",
      "\n",
      "[[12 13]\n",
      " [14 15]\n",
      " [16 17]\n",
      " [18 19]\n",
      " [20 21]\n",
      " [22 23]]\n",
      "\n",
      "[[12]\n",
      " [13]\n",
      " [14]\n",
      " [15]\n",
      " [16]\n",
      " [17]\n",
      " [18]\n",
      " [19]\n",
      " [20]\n",
      " [21]\n",
      " [22]\n",
      " [23]]\n",
      "\n"
     ]
    }
   ],
   "source": [
    "for i in [2, 3, 4, 6, 12]:\n",
    "    print(f'{np.reshape(a, (i, int(12/i)))}\\n')"
   ]
  },
  {
   "cell_type": "markdown",
   "id": "3e680aeb",
   "metadata": {},
   "source": [
    "#### No3"
   ]
  },
  {
   "cell_type": "code",
   "execution_count": 45,
   "id": "a24a83f3",
   "metadata": {},
   "outputs": [
    {
     "name": "stdout",
     "output_type": "stream",
     "text": [
      "[[12 13 14 15 16 17]\n",
      " [18 19 20 21 22 23]]\n",
      "\n",
      "[[12 13]\n",
      " [14 15]\n",
      " [16 17]\n",
      " [18 19]\n",
      " [20 21]\n",
      " [22 23]]\n",
      "\n",
      "[[12 13 14 15]\n",
      " [16 17 18 19]\n",
      " [20 21 22 23]]\n",
      "\n",
      "[[12 13 14]\n",
      " [15 16 17]\n",
      " [18 19 20]\n",
      " [21 22 23]]\n",
      "\n",
      "[[12]\n",
      " [13]\n",
      " [14]\n",
      " [15]\n",
      " [16]\n",
      " [17]\n",
      " [18]\n",
      " [19]\n",
      " [20]\n",
      " [21]\n",
      " [22]\n",
      " [23]]\n"
     ]
    }
   ],
   "source": [
    "a1 = np.reshape(a, (-1, 6))\n",
    "a2 = np.reshape(a, (-1, 2))\n",
    "a3 = np.reshape(a, (3, -1))\n",
    "a4 = np.reshape(a, (4, -1))\n",
    "a5 = np.reshape(a, (12, -1))\n",
    "print(f'{a1}\\n\\n{a2}\\n\\n{a3}\\n\\n{a4}\\n\\n{a5}')"
   ]
  },
  {
   "cell_type": "markdown",
   "id": "cd98b038",
   "metadata": {},
   "source": [
    "#### No4"
   ]
  },
  {
   "cell_type": "markdown",
   "id": "73b53e32",
   "metadata": {},
   "source": [
    "Нет, т.к. одномерный массив - это список, а массив из одного столбца - это список списков, просто в каждом списке располагается всего один элемент. Доступ к элементу одномерного массива будет по одному индексу, и в результате выводится число (в нашем случае с массивом a). А доступ к элементу двумерного массива - будет по двум индексам."
   ]
  },
  {
   "cell_type": "code",
   "execution_count": 46,
   "id": "69f55aa9",
   "metadata": {},
   "outputs": [
    {
     "name": "stdout",
     "output_type": "stream",
     "text": [
      "a[0]: 12 - <class 'numpy.int64'>\n",
      "a5[0]: [12] - <class 'numpy.ndarray'>\n",
      "a5[0][0]: 12 - <class 'numpy.int64'>\n"
     ]
    }
   ],
   "source": [
    "print(f'a[0]: {a[0]} - {type(a[0])}')\n",
    "print(f'a5[0]: {a5[0]} - {type(a5[0])}')\n",
    "print(f'a5[0][0]: {a5[0][0]} - {type(a5[0][0])}')"
   ]
  },
  {
   "cell_type": "markdown",
   "id": "e5b3fa09",
   "metadata": {},
   "source": [
    "#### No5"
   ]
  },
  {
   "cell_type": "code",
   "execution_count": 47,
   "id": "cd3a4d2d",
   "metadata": {},
   "outputs": [
    {
     "name": "stdout",
     "output_type": "stream",
     "text": [
      "aa:\n",
      "[[-1.48421968 -1.34727624  1.50072885  0.31827306]\n",
      " [ 1.03937254  0.45043015 -0.67448915  0.45998984]\n",
      " [-0.50428437 -0.70143794  0.6632496  -0.48716513]]\n",
      "\n",
      "aaa: [[-1.48421968 -1.34727624  1.50072885  0.31827306  1.03937254  0.45043015\n",
      "  -0.67448915  0.45998984 -0.50428437 -0.70143794  0.6632496  -0.48716513]]\n"
     ]
    }
   ],
   "source": [
    "aa = np.random.randn(3, 4)\n",
    "aaa = aa.reshape(1, aa.size)\n",
    "print(f'aa:\\n{aa}\\n\\naaa: {aaa}')"
   ]
  },
  {
   "cell_type": "markdown",
   "id": "f8956ce3",
   "metadata": {},
   "source": [
    "#### No6"
   ]
  },
  {
   "cell_type": "code",
   "execution_count": 48,
   "id": "aa1211e5",
   "metadata": {},
   "outputs": [
    {
     "data": {
      "text/plain": [
       "array([20, 18, 16, 14, 12, 10,  8,  6,  4,  2])"
      ]
     },
     "execution_count": 48,
     "metadata": {},
     "output_type": "execute_result"
    }
   ],
   "source": [
    "a_6 = np.arange(20, 0, -2)\n",
    "a_6"
   ]
  },
  {
   "cell_type": "markdown",
   "id": "439cfe00",
   "metadata": {},
   "source": [
    "#### No7"
   ]
  },
  {
   "cell_type": "code",
   "execution_count": 49,
   "id": "62a36905",
   "metadata": {},
   "outputs": [
    {
     "data": {
      "text/plain": [
       "array([[20],\n",
       "       [18],\n",
       "       [16],\n",
       "       [14],\n",
       "       [12],\n",
       "       [10],\n",
       "       [ 8],\n",
       "       [ 6],\n",
       "       [ 4],\n",
       "       [ 2]])"
      ]
     },
     "execution_count": 49,
     "metadata": {},
     "output_type": "execute_result"
    }
   ],
   "source": [
    "b = np.arange(20, 1, -2)\n",
    "bb = b[:, np.newaxis]\n",
    "bb"
   ]
  },
  {
   "cell_type": "markdown",
   "id": "c9c1e159",
   "metadata": {},
   "source": [
    "a_6 - одномерный массив, строка; bb - двумерный массив, столбец"
   ]
  },
  {
   "cell_type": "markdown",
   "id": "2ed9402b",
   "metadata": {},
   "source": [
    "#### No8"
   ]
  },
  {
   "cell_type": "code",
   "execution_count": 50,
   "id": "1b48b5cc",
   "metadata": {},
   "outputs": [
    {
     "data": {
      "text/plain": [
       "array([[0., 0.],\n",
       "       [0., 0.],\n",
       "       [1., 1.],\n",
       "       [1., 1.],\n",
       "       [1., 1.]])"
      ]
     },
     "execution_count": 50,
     "metadata": {},
     "output_type": "execute_result"
    }
   ],
   "source": [
    "a8 = np.zeros((2, 2))\n",
    "b8 = np.ones((3, 2))\n",
    "c8 = np.vstack((a8, b8))\n",
    "c8"
   ]
  },
  {
   "cell_type": "markdown",
   "id": "7141dc6b",
   "metadata": {},
   "source": [
    "#### No9"
   ]
  },
  {
   "cell_type": "code",
   "execution_count": 51,
   "id": "b7b8c8cf",
   "metadata": {},
   "outputs": [
    {
     "name": "stdout",
     "output_type": "stream",
     "text": [
      "[[  5  14  23  32]\n",
      " [ 14  50  86 122]\n",
      " [ 23  86 149 212]\n",
      " [ 32 122 212 302]]\n",
      "(4, 4)\n",
      "0.0\n"
     ]
    }
   ],
   "source": [
    "a9 = np.arange(12)\n",
    "A9 = a9.reshape(4, 3)\n",
    "At = A9.T\n",
    "B9 = np.dot(A9, At)\n",
    "\n",
    "print(B9)\n",
    "print(np.shape(B9))\n",
    "print(np.linalg.det(B9))"
   ]
  },
  {
   "cell_type": "markdown",
   "id": "f071bd81",
   "metadata": {},
   "source": [
    "Нельзя посчитать обратную матрицу для B9, т.к. её определитель равен 0."
   ]
  },
  {
   "cell_type": "markdown",
   "id": "74481601",
   "metadata": {},
   "source": [
    "#### No10"
   ]
  },
  {
   "cell_type": "code",
   "execution_count": 52,
   "id": "d0654835",
   "metadata": {},
   "outputs": [
    {
     "name": "stdout",
     "output_type": "stream",
     "text": [
      "[0.37454012]\n"
     ]
    }
   ],
   "source": [
    "np.random.seed(42)\n",
    "a10 = np.random.rand(1)\n",
    "print(a10)"
   ]
  },
  {
   "cell_type": "markdown",
   "id": "345641af",
   "metadata": {},
   "source": [
    "#### No11"
   ]
  },
  {
   "cell_type": "code",
   "execution_count": 53,
   "id": "080a6acf",
   "metadata": {},
   "outputs": [
    {
     "data": {
      "text/plain": [
       "array([12, 14, 10,  7, 12,  4,  6,  9,  2,  6, 10, 10,  7,  4,  3,  7])"
      ]
     },
     "execution_count": 53,
     "metadata": {},
     "output_type": "execute_result"
    }
   ],
   "source": [
    "c11 = np.random.randint(0, 16, 16)\n",
    "c11"
   ]
  },
  {
   "cell_type": "markdown",
   "id": "0107d781",
   "metadata": {},
   "source": [
    "#### No12"
   ]
  },
  {
   "cell_type": "code",
   "execution_count": 54,
   "id": "8ef3c176",
   "metadata": {},
   "outputs": [
    {
     "name": "stdout",
     "output_type": "stream",
     "text": [
      "D12:\n",
      "[[125 154 123 102]\n",
      " [134  90 146 212]\n",
      " [ 43 146 249 312]\n",
      " [102 162 242 372]]\n",
      "\n",
      "Определитель D12:\n",
      "-149097600.0\n",
      "\n",
      "Ранг D12:\n",
      "4\n",
      "\n",
      "Обратная матрица D_inv:\n",
      "[[ 0.0004711   0.0111539  -0.00253901 -0.00435621]\n",
      " [ 0.00957225 -0.01715762 -0.00876527  0.01450486]\n",
      " [-0.00167085  0.01408514  0.02130578 -0.02543824]\n",
      " [-0.00321078 -0.00474937 -0.0093469   0.01411451]]\n"
     ]
    }
   ],
   "source": [
    "C12 = np.reshape(c11, (4, 4))\n",
    "D12 = B9 + C12  * 10\n",
    "D_inv = np.linalg.inv(D12)\n",
    "print(f'D12:\\n{D12}\\n')\n",
    "print(f'Определитель D12:\\n{np.linalg.det(D12):.1f}\\n')\n",
    "print(f'Ранг D12:\\n{np.linalg.matrix_rank(D12)}\\n')\n",
    "print(f'Обратная матрица D_inv:\\n{D_inv}')"
   ]
  },
  {
   "cell_type": "markdown",
   "id": "6a7ef892",
   "metadata": {},
   "source": [
    "#### No13"
   ]
  },
  {
   "cell_type": "code",
   "execution_count": 55,
   "id": "4253ffcc",
   "metadata": {},
   "outputs": [
    {
     "name": "stdout",
     "output_type": "stream",
     "text": [
      "[[1. 1. 0. 0.]\n",
      " [1. 0. 0. 1.]\n",
      " [0. 1. 1. 0.]\n",
      " [0. 0. 0. 1.]]\n"
     ]
    }
   ],
   "source": [
    "D_inv2 = np.zeros((4, 4))\n",
    "for i in range(len(D_inv2[0])):\n",
    "    for j in range(len(D_inv2[0])):\n",
    "        if D_inv[i][j] > 0:\n",
    "            D_inv2[i][j] = 1\n",
    "        else:\n",
    "            continue\n",
    "print(D_inv2)"
   ]
  },
  {
   "cell_type": "code",
   "execution_count": 56,
   "id": "5671c4c4",
   "metadata": {},
   "outputs": [
    {
     "name": "stdout",
     "output_type": "stream",
     "text": [
      "[[  5  14  10   7]\n",
      " [ 14   4   6 122]\n",
      " [  2  86 149  10]\n",
      " [  7   4   3 302]]\n"
     ]
    }
   ],
   "source": [
    "E = np.where(D_inv2 == 1, B9, C12)\n",
    "print(E)"
   ]
  },
  {
   "cell_type": "code",
   "execution_count": null,
   "id": "c82aff42",
   "metadata": {},
   "outputs": [],
   "source": []
  }
 ],
 "metadata": {
  "kernelspec": {
   "display_name": "Python 3 (ipykernel)",
   "language": "python",
   "name": "python3"
  },
  "language_info": {
   "codemirror_mode": {
    "name": "ipython",
    "version": 3
   },
   "file_extension": ".py",
   "mimetype": "text/x-python",
   "name": "python",
   "nbconvert_exporter": "python",
   "pygments_lexer": "ipython3",
   "version": "3.9.7"
  }
 },
 "nbformat": 4,
 "nbformat_minor": 5
}
